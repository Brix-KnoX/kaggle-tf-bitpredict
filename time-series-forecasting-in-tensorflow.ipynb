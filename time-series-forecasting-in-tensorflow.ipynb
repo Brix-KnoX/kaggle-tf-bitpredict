{
 "cells": [
  {
   "cell_type": "code",
   "execution_count": 1,
   "id": "3d6f649c",
   "metadata": {
    "_cell_guid": "b1076dfc-b9ad-4769-8c92-a6c4dae69d19",
    "_uuid": "8f2839f25d086af736a60e9eeb907d3b93b6e0e5",
    "execution": {
     "iopub.execute_input": "2023-06-19T23:28:38.508651Z",
     "iopub.status.busy": "2023-06-19T23:28:38.508246Z",
     "iopub.status.idle": "2023-06-19T23:28:38.536056Z",
     "shell.execute_reply": "2023-06-19T23:28:38.534939Z"
    },
    "papermill": {
     "duration": 0.035261,
     "end_time": "2023-06-19T23:28:38.539128",
     "exception": false,
     "start_time": "2023-06-19T23:28:38.503867",
     "status": "completed"
    },
    "tags": []
   },
   "outputs": [
    {
     "name": "stdout",
     "output_type": "stream",
     "text": [
      "/kaggle/input/btc-usd-1-5-max-daily-weekly-monthly/BTC-USD-MAX-MONTHLY.csv\n",
      "/kaggle/input/btc-usd-1-5-max-daily-weekly-monthly/BTC-USD-5YR-WEEKLY.csv\n",
      "/kaggle/input/btc-usd-1-5-max-daily-weekly-monthly/BTC-USD-MAX-MAYEND.csv\n",
      "/kaggle/input/btc-usd-1-5-max-daily-weekly-monthly/BTC-USD-1YR-MONTHLY.csv\n",
      "/kaggle/input/btc-usd-1-5-max-daily-weekly-monthly/BTC-USD-5YR.csv\n",
      "/kaggle/input/btc-usd-1-5-max-daily-weekly-monthly/BTC-USD-01YR.csv\n",
      "/kaggle/input/btc-usd-1-5-max-daily-weekly-monthly/BTC-USD-5YR-MONTHLY.csv\n",
      "/kaggle/input/btc-usd-1-5-max-daily-weekly-monthly/BTC-USD-1YR-MAYEND.csv\n",
      "/kaggle/input/btc-usd-1-5-max-daily-weekly-monthly/BTC-USD-5YR-MAYEND.csv\n",
      "/kaggle/input/btc-usd-1-5-max-daily-weekly-monthly/BTC-USD-1YR-WEEKLY.csv\n",
      "/kaggle/input/btc-usd-1-5-max-daily-weekly-monthly/BTC-USD-MAX-WEEKLY.csv\n",
      "/kaggle/input/btc-usd-2014-07-17-2023-06-19-yahoo/BTC-USD.csv\n"
     ]
    }
   ],
   "source": [
    "# This Python 3 environment comes with many helpful analytics libraries installed\n",
    "# It is defined by the kaggle/python Docker image: https://github.com/kaggle/docker-python\n",
    "# For example, here's several helpful packages to load\n",
    "\n",
    "import numpy as np # linear algebra\n",
    "import pandas as pd # data processing, CSV file I/O (e.g. pd.read_csv)\n",
    "\n",
    "# Input data files are available in the read-only \"../input/\" directory\n",
    "# For example, running this (by clicking run or pressing Shift+Enter) will list all files under the input directory\n",
    "\n",
    "import os\n",
    "for dirname, _, filenames in os.walk('/kaggle/input'):\n",
    "    for filename in filenames:\n",
    "        print(os.path.join(dirname, filename))\n",
    "\n",
    "# You can write up to 20GB to the current directory (/kaggle/working/) that gets preserved as output when you create a version using \"Save & Run All\" \n",
    "# You can also write temporary files to /kaggle/temp/, but they won't be saved outside of the current session"
   ]
  },
  {
   "cell_type": "code",
   "execution_count": 2,
   "id": "26ed28c1",
   "metadata": {
    "execution": {
     "iopub.execute_input": "2023-06-19T23:28:38.545353Z",
     "iopub.status.busy": "2023-06-19T23:28:38.544987Z",
     "iopub.status.idle": "2023-06-19T23:28:38.960830Z",
     "shell.execute_reply": "2023-06-19T23:28:38.958981Z"
    },
    "papermill": {
     "duration": 0.422793,
     "end_time": "2023-06-19T23:28:38.964109",
     "exception": false,
     "start_time": "2023-06-19T23:28:38.541316",
     "status": "completed"
    },
    "tags": []
   },
   "outputs": [
    {
     "name": "stdout",
     "output_type": "stream",
     "text": [
      "--2023-06-19 23:28:38--  https://raw.githubusercontent.com/Brix-KnoX/tensorflow-deep-learning/main/extras/BTC-USD-01YR.csv\r\n",
      "Resolving raw.githubusercontent.com (raw.githubusercontent.com)... 185.199.108.133, 185.199.109.133, 185.199.110.133, ...\r\n",
      "Connecting to raw.githubusercontent.com (raw.githubusercontent.com)|185.199.108.133|:443... connected.\r\n",
      "HTTP request sent, awaiting response... 200 OK\r\n",
      "Length: 32151 (31K) [text/plain]\r\n",
      "Saving to: ‘BTC-USD-01YR.csv’\r\n",
      "\r\n",
      "BTC-USD-01YR.csv    100%[===================>]  31.40K  --.-KB/s    in 0.003s  \r\n",
      "\r\n",
      "2023-06-19 23:28:38 (10.7 MB/s) - ‘BTC-USD-01YR.csv’ saved [32151/32151]\r\n",
      "\r\n"
     ]
    }
   ],
   "source": [
    "!wget https://raw.githubusercontent.com/Brix-KnoX/tensorflow-deep-learning/main/extras/BTC-USD-01YR.csv"
   ]
  },
  {
   "cell_type": "code",
   "execution_count": 3,
   "id": "43dff7cc",
   "metadata": {
    "execution": {
     "iopub.execute_input": "2023-06-19T23:28:38.970597Z",
     "iopub.status.busy": "2023-06-19T23:28:38.970185Z",
     "iopub.status.idle": "2023-06-19T23:28:38.975196Z",
     "shell.execute_reply": "2023-06-19T23:28:38.973997Z"
    },
    "papermill": {
     "duration": 0.011379,
     "end_time": "2023-06-19T23:28:38.977699",
     "exception": false,
     "start_time": "2023-06-19T23:28:38.966320",
     "status": "completed"
    },
    "tags": []
   },
   "outputs": [],
   "source": [
    "import pandas as pd\n",
    "\n"
   ]
  }
 ],
 "metadata": {
  "kernelspec": {
   "display_name": "Python 3",
   "language": "python",
   "name": "python3"
  },
  "language_info": {
   "codemirror_mode": {
    "name": "ipython",
    "version": 3
   },
   "file_extension": ".py",
   "mimetype": "text/x-python",
   "name": "python",
   "nbconvert_exporter": "python",
   "pygments_lexer": "ipython3",
   "version": "3.10.10"
  },
  "papermill": {
   "default_parameters": {},
   "duration": 11.415407,
   "end_time": "2023-06-19T23:28:39.903202",
   "environment_variables": {},
   "exception": null,
   "input_path": "__notebook__.ipynb",
   "output_path": "__notebook__.ipynb",
   "parameters": {},
   "start_time": "2023-06-19T23:28:28.487795",
   "version": "2.4.0"
  }
 },
 "nbformat": 4,
 "nbformat_minor": 5
}
